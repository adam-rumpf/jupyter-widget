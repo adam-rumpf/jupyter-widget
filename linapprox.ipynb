{
 "cells": [
  {
   "cell_type": "code",
   "execution_count": 1,
   "id": "f72f9657",
   "metadata": {
    "tags": []
   },
   "outputs": [
    {
     "data": {
      "application/vnd.jupyter.widget-view+json": {
       "model_id": "b40125069e714143b0cd84b31b6eface",
       "version_major": 2,
       "version_minor": 0
      },
      "text/plain": [
       "Canvas(toolbar=Toolbar(toolitems=[('Home', 'Reset original view', 'home', 'home'), ('Back', 'Back to previous …"
      ]
     },
     "metadata": {},
     "output_type": "display_data"
    },
    {
     "data": {
      "application/vnd.jupyter.widget-view+json": {
       "model_id": "26366b76ae484bc7b4a751090d5b983f",
       "version_major": 2,
       "version_minor": 0
      },
      "text/plain": [
       "interactive(children=(FloatSlider(value=1.0, description='a', max=9.0, min=-2.95, step=0.05), Output()), _dom_…"
      ]
     },
     "metadata": {},
     "output_type": "display_data"
    }
   ],
   "source": [
    "%matplotlib widget\n",
    "import ipywidgets as widgets\n",
    "import matplotlib.pyplot as plt\n",
    "import numpy as np\n",
    "\n",
    "# Define function, derivative, and linear approximation\n",
    "def f(x):\n",
    "    return np.sqrt(x+3)\n",
    "\n",
    "def fp(x):\n",
    "    return 1/(2*np.sqrt(x+3))\n",
    "\n",
    "def l(x, a):\n",
    "    if a > -3:\n",
    "        return f(a) + fp(a)*(x-a)\n",
    "    else:\n",
    "        return 0\n",
    "\n",
    "def g(x):\n",
    "    return x**2\n",
    "\n",
    "# Set up plot\n",
    "fig, ax = plt.subplots()\n",
    "plt.title(\"Linear Approximation of f(x) = sqrt(x+3)\")\n",
    "\n",
    "# Generate x-values\n",
    "x = np.linspace(-3, 10, 101)\n",
    "\n",
    "# Draw plot lines\n",
    "@widgets.interact(a=(-2.95, 9, 0.05))\n",
    "def update1(a=1.0):\n",
    "    #[line.remove() for line in ax.lines]\n",
    "    ax.clear()\n",
    "    ax.grid(True)\n",
    "    ax.set_ylim([0, 5])\n",
    "    ax.set_xlabel(\"x\")\n",
    "    ax.set_ylabel(\"y\")\n",
    "    ax.plot(x, f(x), color=\"C0\")\n",
    "    ax.plot(x, l(x, a), color=\"C1\")\n",
    "    ax.plot(a, f(a), color=\"C1\", marker=\".\", markersize=10)"
   ]
  },
  {
   "cell_type": "code",
   "execution_count": null,
   "id": "1950bd30",
   "metadata": {},
   "outputs": [],
   "source": []
  }
 ],
 "metadata": {
  "kernelspec": {
   "display_name": "Python 3",
   "language": "python",
   "name": "python3"
  },
  "language_info": {
   "codemirror_mode": {
    "name": "ipython",
    "version": 3
   },
   "file_extension": ".py",
   "mimetype": "text/x-python",
   "name": "python",
   "nbconvert_exporter": "python",
   "pygments_lexer": "ipython3",
   "version": "3.9.1"
  }
 },
 "nbformat": 4,
 "nbformat_minor": 5
}
